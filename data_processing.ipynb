{
 "cells": [
  {
   "cell_type": "code",
   "execution_count": 1,
   "metadata": {},
   "outputs": [],
   "source": [
    "import pandas as pd\n",
    "import numpy as np\n",
    "import geopandas as gpd"
   ]
  },
  {
   "cell_type": "code",
   "execution_count": 2,
   "metadata": {},
   "outputs": [],
   "source": [
    "# Open crime data bases and keep first=degree homicides\n",
    "crimes = pd.read_csv('data/IDM_NM_ene2020.csv', encoding = 'latin')\n",
    "crimes.columns = map(str.lower, crimes.columns)\n",
    "\n",
    "crimes.rename(columns={'año': 'year', \n",
    "                      'clave_ent': 'state_key',\n",
    "                      'entidad': 'state',\n",
    "                      'cve. municipio': 'key',\n",
    "                      'municipio': 'municipality',\n",
    "                      'bien jurídico afectado': 'affected_good',\n",
    "                      'tipo de delito': 'crime_type',\n",
    "                      'subtipo de delito': 'crime_subtype',\n",
    "                      'modalidad': 'modality',\n",
    "                      'enero': 'January',\n",
    "                      'febrero': 'February',\n",
    "                      'marzo' : 'March',\n",
    "                      'abril': 'April',\n",
    "                      'mayo': 'May',\n",
    "                      'junio': 'June',\n",
    "                      'julio': 'July',\n",
    "                      'agosto': 'August',\n",
    "                      'septiembre': 'September',\n",
    "                      'octubre': 'October',\n",
    "                      'noviembre': 'November',\n",
    "                      'diciembre': 'December'}, inplace=True)\n",
    "\n",
    "crimes = crimes[(crimes.crime_subtype == 'Homicidio doloso') & (crimes.year < 2020)]\n",
    "\n",
    "crimes.drop(columns=['state_key', 'state_key', 'affected_good', 'crime_type', 'crime_subtype', 'modality'],\n",
    "           inplace=True)\n"
   ]
  },
  {
   "cell_type": "code",
   "execution_count": 3,
   "metadata": {},
   "outputs": [],
   "source": [
    "# Open old (2011-2014) crime data bases and keep first-degree homicides\n",
    "\n",
    "crimes_old = pd.read_csv('data/IDM_oct19.csv', encoding = 'latin')\n",
    "crimes_old.columns = map(str.lower, crimes_old.columns)\n",
    "crimes_old = crimes_old[(crimes_old.año < 2015) & (crimes_old.modalidad == 'HOMICIDIOS') & (crimes_old.tipo == 'DOLOSOS')]\n",
    "\n",
    "crimes_old.rename(columns={'año': 'year', \n",
    "                      'inegi': 'key',\n",
    "                      'municipio': 'municipality',\n",
    "                      'enero': 'January',\n",
    "                      'febrero': 'February',\n",
    "                      'marzo' : 'March',\n",
    "                      'abril': 'April',\n",
    "                      'mayo': 'May',\n",
    "                      'junio': 'June',\n",
    "                      'julio': 'July',\n",
    "                      'agosto': 'August',\n",
    "                      'septiembre': 'September',\n",
    "                      'octubre': 'October',\n",
    "                      'noviembre': 'November',\n",
    "                      'diciembre': 'December'}, inplace=True)\n",
    "\n",
    "crimes_old.drop(columns=['entidad', 'modalidad', 'tipo', 'subtipo', 'municipality'], inplace=True)\n",
    "\n",
    "crimes_old=crimes_old.merge(crimes[['key', 'municipality', 'state']].drop_duplicates(), how='left', on='key')"
   ]
  },
  {
   "cell_type": "code",
   "execution_count": 4,
   "metadata": {},
   "outputs": [],
   "source": [
    "# Append databases\n",
    "crimes = crimes.append(crimes_old, sort=False)\n",
    "\n",
    "# Aggregate homicides by year\n",
    "\n",
    "crimes = crimes.melt(id_vars=['key', 'municipality', 'state', 'year'],\n",
    "                   value_vars=['January', 'February', 'March', 'April', 'May', 'June',\n",
    "                               'July', 'August', 'September', 'October', 'November', 'December'],\n",
    "                   var_name='month', value_name='homicides')\n",
    "\n",
    "crimes.fillna(0, inplace=True)\n",
    "crimes = crimes.groupby(['key', 'municipality', 'state', 'year'], as_index=False).sum()"
   ]
  },
  {
   "cell_type": "code",
   "execution_count": 5,
   "metadata": {},
   "outputs": [],
   "source": [
    "# Create columns per year\n",
    "crimes = crimes.pivot_table(values='homicides', index=['key', 'municipality', 'state'], columns='year',\n",
    "                            fill_value=0).reset_index()\n"
   ]
  },
  {
   "cell_type": "code",
   "execution_count": 6,
   "metadata": {},
   "outputs": [],
   "source": [
    "# Open population estimates\n",
    "pop = pd.read_csv('data/base_municipios_final_datos_01-1.csv', encoding = 'latin')\n",
    "pop2 = pd.read_csv('data/base_municipios_final_datos_02-1.csv', encoding = 'latin')\n",
    "pop = pop.append(pop2)\n",
    "\n",
    "pop.columns = map(str.lower, pop.columns)\n",
    "\n",
    "pop.rename(columns={'año': 'year', \n",
    "                    'clave': 'key',\n",
    "                    }, inplace=True)\n",
    "\n",
    "pop = pop[pop.year < 2020]\n",
    "\n",
    "pop.drop(columns=['renglon', 'clave_ent', 'nom_ent', 'mun', 'sexo', 'edad_quin'], inplace=True)\n",
    "\n",
    "pop = pop.groupby(['key', 'year'], as_index=False).sum()\n"
   ]
  },
  {
   "cell_type": "code",
   "execution_count": 7,
   "metadata": {},
   "outputs": [],
   "source": [
    "# pivot population\n",
    "pop['year'] = 'pop' + pop.year.apply(str)\n",
    "pop = pop.pivot_table(values='pob', index='key', columns='year',\n",
    "                      fill_value=0).reset_index()"
   ]
  },
  {
   "cell_type": "code",
   "execution_count": 8,
   "metadata": {},
   "outputs": [],
   "source": [
    "# Get file of 2010 population Source: INEGI. Censo de Poblacon y Vivienda 2010.\n",
    "pop3 = pd.read_csv('data/INEGI_Exporta_20200229165754.csv', encoding = 'latin')\n",
    "pop3.key.replace('\\\\s', value='', regex=True, inplace=True)\n",
    "pop3['key'] = pop3.key.astype(np.int64)\n",
    "pop3.rename(columns={'Total': 'pop2010'}, inplace=True)\n",
    "pop3.pop2010.replace('\\\\,', value='', regex=True, inplace=True)\n",
    "pop3['pop2010'] = pop3.pop2010.astype(np.int64)\n",
    "pop3.drop(columns=['mun', 'Hombre', 'Mujer'], inplace=True)\n",
    "pop3 = pop3[pop3.key > 1000]"
   ]
  },
  {
   "cell_type": "code",
   "execution_count": 9,
   "metadata": {},
   "outputs": [],
   "source": [
    "# Merge population data\n",
    "pop = pop.merge(pop3, how='inner', on='key')"
   ]
  },
  {
   "cell_type": "code",
   "execution_count": 10,
   "metadata": {},
   "outputs": [],
   "source": [
    "# Merge homicide and population data\n",
    "homicides = crimes.merge(pop, how='inner', on='key')"
   ]
  },
  {
   "cell_type": "code",
   "execution_count": 11,
   "metadata": {},
   "outputs": [],
   "source": [
    "# Create homicide rate variables\n",
    "\n",
    "for y in range(2011, 2020):\n",
    "    if y < 2015:\n",
    "        pop = 'pop2010'\n",
    "\n",
    "    else:\n",
    "        pop = 'pop' + str(y)\n",
    "\n",
    "    var = 'homrate' + str(y)\n",
    "\n",
    "    homicides[var] = homicides[y] / (homicides[pop]/100000)"
   ]
  },
  {
   "cell_type": "code",
   "execution_count": 12,
   "metadata": {},
   "outputs": [],
   "source": [
    "# Create region variable\n",
    "homicides.loc[homicides.state == 'Coahuila de Zaragoza', 'state'] = 'Coahuila'\n",
    "homicides.loc[homicides.state == 'Michoacán de Ocampo', 'state'] = 'Michoacán'\n",
    "homicides.loc[homicides.state == 'Veracruz de Ignacio de la Llave', 'state'] = 'Veracruz'\n",
    "\n",
    "nw = ['Baja California', 'Baja California Sur', 'Chihuahua', 'Sinaloa', 'Sonora']\n",
    "ne = ['Coahuila', 'Durango', 'Nuevo León', 'San Luis Potosí', 'Tamaulipas']\n",
    "w = ['Aguascalientes', 'Colima', 'Guanajuato', 'Jalisco', 'Michoacán', 'Nayarit', 'Querétaro', 'Zacatecas']\n",
    "c = ['Ciudad de México', 'México', 'Guerrero', 'Hidalgo', 'Morelos', 'Puebla', 'Tlaxcala']\n",
    "se = ['Campeche', 'Chiapas', 'Oaxaca', 'Quintana Roo', 'Tabasco', 'Veracruz', 'Yucatán']\n",
    "\n",
    "homicides['region'] = np.where(homicides.state.isin(nw), 'Northwest',\n",
    "                                np.where(homicides.state.isin(ne), 'Northeast',\n",
    "                                         np.where(homicides.state.isin(w), 'West', \n",
    "                                                  np.where(homicides.state.isin(c), 'Central', 'Southeast'))))\n"
   ]
  },
  {
   "cell_type": "code",
   "execution_count": 13,
   "metadata": {},
   "outputs": [],
   "source": [
    "# Replace Nan\n",
    "homicides.fillna(0, inplace=True)\n",
    "\n",
    "#write file\n",
    "homicides.to_csv('data/homicides.csv')"
   ]
  },
  {
   "cell_type": "code",
   "execution_count": 14,
   "metadata": {},
   "outputs": [],
   "source": [
    "# Open States shapefile\n",
    "states = gpd.read_file('data/00ent.shp')\n",
    "states.columns = map(str.lower, states.columns)"
   ]
  },
  {
   "cell_type": "code",
   "execution_count": 15,
   "metadata": {},
   "outputs": [
    {
     "name": "stderr",
     "output_type": "stream",
     "text": [
      "/Users/eliasserrania/anaconda3/lib/python3.6/site-packages/pyproj/transformer.py:92: UserWarning: `from_crs` is deprecated and will be removed in 2.2.0. Please use `from_proj` instead.\n",
      "  \"`from_crs` is deprecated and will be removed in 2.2.0. \"\n"
     ]
    }
   ],
   "source": [
    "# Simplify geometry\n",
    "states.geometry = states.geometry.simplify(tolerance=500)\n",
    "\n",
    "# Transform crs \n",
    "states.crs = {'init' :'epsg:6362'}\n",
    "states.to_crs({'init': 'epsg:4326'}, inplace=True)"
   ]
  },
  {
   "cell_type": "code",
   "execution_count": 16,
   "metadata": {},
   "outputs": [
    {
     "data": {
      "text/plain": [
       "<matplotlib.axes._subplots.AxesSubplot at 0x11b165978>"
      ]
     },
     "execution_count": 16,
     "metadata": {},
     "output_type": "execute_result"
    }
   ],
   "source": [
    "states.plot()"
   ]
  },
  {
   "cell_type": "code",
   "execution_count": 17,
   "metadata": {},
   "outputs": [],
   "source": [
    "# Create region variable\n",
    "states.loc[states.nomgeo == 'Coahuila de Zaragoza', 'nomgeo'] = 'Coahuila'\n",
    "states.loc[states.nomgeo == 'Michoacán de Ocampo', 'nomgeo'] = 'Michoacán'\n",
    "states.loc[states.nomgeo == 'Veracruz de Ignacio de la Llave', 'nomgeo'] = 'Veracruz'\n",
    "\n",
    "states['region'] = np.where(states.nomgeo.isin(nw), 'Northwest',\n",
    "                                np.where(states.nomgeo.isin(ne), 'Northeast',\n",
    "                                         np.where(states.nomgeo.isin(w), 'West', \n",
    "                                                  np.where(states.nomgeo.isin(c), 'Central', 'Southeast'))))"
   ]
  },
  {
   "cell_type": "code",
   "execution_count": 18,
   "metadata": {},
   "outputs": [],
   "source": [
    "# Write file\n",
    "states.to_file('data/states.geojson', driver='GeoJSON')"
   ]
  },
  {
   "cell_type": "code",
   "execution_count": 19,
   "metadata": {},
   "outputs": [],
   "source": [
    "# Open municipalites file\n",
    "mun = gpd.read_file('data/00mun.shp')\n",
    "mun.columns = map(str.lower, mun.columns)"
   ]
  },
  {
   "cell_type": "code",
   "execution_count": 20,
   "metadata": {},
   "outputs": [
    {
     "name": "stderr",
     "output_type": "stream",
     "text": [
      "/Users/eliasserrania/anaconda3/lib/python3.6/site-packages/pyproj/transformer.py:92: UserWarning: `from_crs` is deprecated and will be removed in 2.2.0. Please use `from_proj` instead.\n",
      "  \"`from_crs` is deprecated and will be removed in 2.2.0. \"\n"
     ]
    }
   ],
   "source": [
    "# Change geometry for centroids\n",
    "mun.geometry = mun.geometry.centroid\n",
    "\n",
    "# Transform crs\n",
    "mun.crs = {'init' :'epsg:6362'}\n",
    "mun.to_crs({'init': 'epsg:4326'}, inplace=True)"
   ]
  },
  {
   "cell_type": "code",
   "execution_count": 21,
   "metadata": {},
   "outputs": [],
   "source": [
    "mun.rename(columns={'cvegeo': 'key'}, inplace=True)\n",
    "\n",
    "mun['key'] = pd.to_numeric(mun.key)\n",
    "mun['key'] = mun.key.astype(str)\n"
   ]
  },
  {
   "cell_type": "code",
   "execution_count": 25,
   "metadata": {},
   "outputs": [],
   "source": [
    "# Extract geometry\n",
    "\n",
    "mun['lat'] = mun.geometry.y\n",
    "mun['lon'] = mun.geometry.x"
   ]
  },
  {
   "cell_type": "code",
   "execution_count": 28,
   "metadata": {},
   "outputs": [
    {
     "data": {
      "text/plain": [
       "0      -102.295872\n",
       "1      -102.045590\n",
       "2      -102.704911\n",
       "3      -102.297038\n",
       "4      -102.445700\n",
       "           ...    \n",
       "2460   -101.714324\n",
       "2461   -102.851571\n",
       "2462   -102.678055\n",
       "2463   -102.312009\n",
       "2464   -103.343882\n",
       "Name: lon, Length: 2465, dtype: float64"
      ]
     },
     "execution_count": 28,
     "metadata": {},
     "output_type": "execute_result"
    }
   ],
   "source": [
    "mun.lon"
   ]
  },
  {
   "cell_type": "code",
   "execution_count": null,
   "metadata": {},
   "outputs": [],
   "source": []
  },
  {
   "cell_type": "code",
   "execution_count": 23,
   "metadata": {},
   "outputs": [],
   "source": [
    "# Write file\n",
    "mun.to_file('data/municipalities.geojson', driver='GeoJSON')"
   ]
  },
  {
   "cell_type": "markdown",
   "metadata": {},
   "source": [
    "test = gpd.read_file('data/states.geojson')"
   ]
  }
 ],
 "metadata": {
  "kernelspec": {
   "display_name": "Python 3",
   "language": "python",
   "name": "python3"
  },
  "language_info": {
   "codemirror_mode": {
    "name": "ipython",
    "version": 3
   },
   "file_extension": ".py",
   "mimetype": "text/x-python",
   "name": "python",
   "nbconvert_exporter": "python",
   "pygments_lexer": "ipython3",
   "version": "3.6.8"
  }
 },
 "nbformat": 4,
 "nbformat_minor": 2
}
