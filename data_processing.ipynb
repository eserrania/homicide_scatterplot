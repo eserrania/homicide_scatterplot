{
 "cells": [
  {
   "cell_type": "code",
   "execution_count": 1,
   "metadata": {},
   "outputs": [],
   "source": [
    "import pandas as pd\n",
    "import numpy as np"
   ]
  },
  {
   "cell_type": "code",
   "execution_count": 2,
   "metadata": {},
   "outputs": [],
   "source": [
    "# Open crime data bases and keep first=degree homicides\n",
    "crimes = pd.read_csv('data/IDM_NM_ene2020.csv', encoding = 'latin')\n",
    "crimes.columns = map(str.lower, crimes.columns)\n",
    "\n",
    "crimes.rename(columns={'año': 'year', \n",
    "                      'clave_ent': 'state_key',\n",
    "                      'entidad': 'state',\n",
    "                      'cve. municipio': 'key',\n",
    "                      'municipio': 'municipality',\n",
    "                      'bien jurídico afectado': 'affected_good',\n",
    "                      'tipo de delito': 'crime_type',\n",
    "                      'subtipo de delito': 'crime_subtype',\n",
    "                      'modalidad': 'modality',\n",
    "                      'enero': 'January',\n",
    "                      'febrero': 'February',\n",
    "                      'marzo' : 'March',\n",
    "                      'abril': 'April',\n",
    "                      'mayo': 'May',\n",
    "                      'junio': 'June',\n",
    "                      'julio': 'July',\n",
    "                      'agosto': 'August',\n",
    "                      'septiembre': 'September',\n",
    "                      'octubre': 'October',\n",
    "                      'noviembre': 'November',\n",
    "                      'diciembre': 'December'}, inplace=True)\n",
    "\n",
    "crimes = crimes[(crimes.crime_subtype == 'Homicidio doloso') & (crimes.year < 2020)]\n",
    "\n",
    "crimes.drop(columns=['state_key', 'state_key', 'affected_good', 'crime_type', 'crime_subtype', 'modality'],\n",
    "           inplace=True)\n"
   ]
  },
  {
   "cell_type": "code",
   "execution_count": 3,
   "metadata": {},
   "outputs": [],
   "source": [
    "# Open old (2011-2014) crime data bases and keep first-degree homicides\n",
    "\n",
    "crimes_old = pd.read_csv('data/IDM_oct19.csv', encoding = 'latin')\n",
    "crimes_old.columns = map(str.lower, crimes_old.columns)\n",
    "crimes_old = crimes_old[(crimes_old.año < 2015) & (crimes_old.modalidad == 'HOMICIDIOS') & (crimes_old.tipo == 'DOLOSOS')]\n",
    "\n",
    "crimes_old.rename(columns={'año': 'year', \n",
    "                      'inegi': 'key',\n",
    "                      'municipio': 'municipality',\n",
    "                      'enero': 'January',\n",
    "                      'febrero': 'February',\n",
    "                      'marzo' : 'March',\n",
    "                      'abril': 'April',\n",
    "                      'mayo': 'May',\n",
    "                      'junio': 'June',\n",
    "                      'julio': 'July',\n",
    "                      'agosto': 'August',\n",
    "                      'septiembre': 'September',\n",
    "                      'octubre': 'October',\n",
    "                      'noviembre': 'November',\n",
    "                      'diciembre': 'December'}, inplace=True)\n",
    "\n",
    "crimes_old.drop(columns=['entidad', 'modalidad', 'tipo', 'subtipo', 'municipality'], inplace=True)\n",
    "\n",
    "crimes_old=crimes_old.merge(crimes[['key', 'municipality', 'state']].drop_duplicates(), how='left', on='key')"
   ]
  },
  {
   "cell_type": "code",
   "execution_count": 4,
   "metadata": {},
   "outputs": [],
   "source": [
    "# Append databases\n",
    "crimes = crimes.append(crimes_old, sort=False)\n",
    "\n",
    "# Aggregate homicides by year\n",
    "\n",
    "crimes = crimes.melt(id_vars=['key', 'municipality', 'state', 'year'],\n",
    "                   value_vars=['January', 'February', 'March', 'April', 'May', 'June',\n",
    "                               'July', 'August', 'September', 'October', 'November', 'December'],\n",
    "                   var_name='month', value_name='homicides')\n",
    "\n",
    "crimes.fillna(0, inplace=True)\n",
    "crimes = crimes.groupby(['key', 'municipality', 'state', 'year'], as_index=False).sum()"
   ]
  },
  {
   "cell_type": "code",
   "execution_count": 5,
   "metadata": {},
   "outputs": [],
   "source": [
    "# Create columns per year\n",
    "crimes = crimes.pivot_table(values='homicides', index=['key', 'municipality', 'state'], columns='year',\n",
    "                            fill_value=0).reset_index()\n"
   ]
  },
  {
   "cell_type": "code",
   "execution_count": 6,
   "metadata": {},
   "outputs": [],
   "source": [
    "# Open population estimates\n",
    "pop = pd.read_csv('data/base_municipios_final_datos_01-1.csv', encoding = 'latin')\n",
    "pop2 = pd.read_csv('data/base_municipios_final_datos_02-1.csv', encoding = 'latin')\n",
    "pop = pop.append(pop2)\n",
    "\n",
    "pop.columns = map(str.lower, pop.columns)\n",
    "\n",
    "pop.rename(columns={'año': 'year', \n",
    "                    'clave': 'key',\n",
    "                    }, inplace=True)\n",
    "\n",
    "pop = pop[pop.year < 2020]\n",
    "\n",
    "pop.drop(columns=['renglon', 'clave_ent', 'nom_ent', 'mun', 'sexo', 'edad_quin'], inplace=True)\n",
    "\n",
    "pop = pop.groupby(['key', 'year'], as_index=False).sum()\n"
   ]
  },
  {
   "cell_type": "code",
   "execution_count": 7,
   "metadata": {},
   "outputs": [],
   "source": [
    "# pivot population\n",
    "pop['year'] = 'pop' + pop.year.apply(str)\n",
    "pop = pop.pivot_table(values='pob', index='key', columns='year',\n",
    "                      fill_value=0).reset_index()"
   ]
  },
  {
   "cell_type": "code",
   "execution_count": 8,
   "metadata": {},
   "outputs": [],
   "source": [
    "# Get file of 2010 population Source: INEGI. Censo de Poblacon y Vivienda 2010.\n",
    "pop3 = pd.read_csv('data/INEGI_Exporta_20200229165754.csv', encoding = 'latin')\n",
    "pop3.key.replace('\\\\s', value='', regex=True, inplace=True)\n",
    "pop3['key'] = pop3.key.astype(np.int64)\n",
    "pop3.rename(columns={'Total': 'pop2010'}, inplace=True)\n",
    "pop3.pop2010.replace('\\\\,', value='', regex=True, inplace=True)\n",
    "pop3['pop2010'] = pop3.pop2010.astype(np.int64)\n",
    "pop3.drop(columns=['mun', 'Hombre', 'Mujer'], inplace=True)\n",
    "pop3 = pop3[pop3.key > 1000]"
   ]
  },
  {
   "cell_type": "code",
   "execution_count": 9,
   "metadata": {},
   "outputs": [],
   "source": [
    "# Merge population data\n",
    "pop = pop.merge(pop3, how='inner', on='key')"
   ]
  },
  {
   "cell_type": "code",
   "execution_count": 10,
   "metadata": {},
   "outputs": [],
   "source": [
    "# Merge homicide and population data\n",
    "homicides = crimes.merge(pop, how='inner', on='key')"
   ]
  },
  {
   "cell_type": "code",
   "execution_count": 11,
   "metadata": {},
   "outputs": [],
   "source": [
    "# Create homicide rate variables\n",
    "\n",
    "for y in range(2011, 2020):\n",
    "    if y < 2015:\n",
    "        pop = 'pop2010'\n",
    "\n",
    "    else:\n",
    "        pop = 'pop' + str(y)\n",
    "\n",
    "    var = 'homrate' + str(y)\n",
    "\n",
    "    homicides[var] = homicides[y] / (homicides[pop]/100000)"
   ]
  },
  {
   "cell_type": "code",
   "execution_count": 12,
   "metadata": {},
   "outputs": [],
   "source": [
    "# Replace Nan\n",
    "homicides.fillna(0, inplace=True)\n",
    "\n",
    "#write file\n",
    "homicides.to_csv('data/homicides.csv')"
   ]
  }
 ],
 "metadata": {
  "kernelspec": {
   "display_name": "Python 3",
   "language": "python",
   "name": "python3"
  },
  "language_info": {
   "codemirror_mode": {
    "name": "ipython",
    "version": 3
   },
   "file_extension": ".py",
   "mimetype": "text/x-python",
   "name": "python",
   "nbconvert_exporter": "python",
   "pygments_lexer": "ipython3",
   "version": "3.6.8"
  }
 },
 "nbformat": 4,
 "nbformat_minor": 2
}
